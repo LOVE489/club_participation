{
  "nbformat": 4,
  "nbformat_minor": 0,
  "metadata": {
    "colab": {
      "provenance": []
    },
    "kernelspec": {
      "name": "python3",
      "display_name": "Python 3"
    },
    "language_info": {
      "name": "python"
    }
  },
  "cells": [
    {
      "cell_type": "code",
      "execution_count": null,
      "metadata": {
        "colab": {
          "base_uri": "https://localhost:8080/"
        },
        "id": "CQglcKTSrwQ0",
        "outputId": "576e8631-51e0-441c-f1cc-367760b79477"
      },
      "outputs": [
        {
          "output_type": "stream",
          "name": "stdout",
          "text": [
            "CSV file created successfully!\n"
          ]
        }
      ],
      "source": [
        "import pandas as pd\n",
        "\n",
        "# Fixed: All lists are of equal length (100 entries)\n",
        "data = {\n",
        "    \"interest_level\": [4, 6, 8, 6, 9, 9, 2, 1, 2, 5, 4, 4, 9, 8, 6, 1, 2, 6, 2, 5,\n",
        "                       5, 6, 6, 6, 2, 3, 6, 8, 1, 1, 2, 6, 9, 4, 3, 8, 9, 5, 9, 2,\n",
        "                       3, 7, 7, 6, 6, 2, 6, 4, 3, 2, 1, 5, 2, 2, 7, 8, 8, 4, 1, 7,\n",
        "                       1, 4, 8, 2, 6, 6, 9, 5, 4, 5, 5, 8, 8, 2, 7, 8, 6, 5, 9, 3,\n",
        "                       4, 9, 6, 8, 7, 2, 3, 1, 9, 7, 1, 3, 4, 4, 5, 3, 3, 1, 7, 1],\n",
        "    \"free_hours_per_week\": [17, 12, 19, 19, 17, 3, 0, 17, 0, 12, 19, 19, 9, 10, 8, 8, 4, 0, 16, 1,\n",
        "                            12, 8, 3, 4, 10, 18, 2, 11, 18, 18, 12, 6, 14, 6, 7, 4, 13, 3, 9, 19,\n",
        "                            14, 17, 19, 12, 7, 8, 15, 18, 15, 6, 13, 13, 3, 14, 2, 4, 0, 2, 14, 7,\n",
        "                            3, 1, 9, 3, 2, 1, 16, 19, 12, 4, 8, 5, 4, 9, 7, 6, 6, 5, 19, 2, 18, 14,\n",
        "                            3, 11, 5, 18, 3, 14, 8, 4, 12, 17, 4, 15, 18, 13, 15, 14, 3, 6],\n",
        "    \"club_participation\": ['no', 'no', 'no', 'yes', 'no', 'yes', 'no', 'yes', 'no', 'yes', 'yes', 'yes', 'no', 'no', 'no',\n",
        "                           'yes', 'no', 'yes', 'no', 'yes', 'yes', 'yes', 'no', 'no', 'no', 'yes', 'yes', 'no', 'no', 'no',\n",
        "                           'yes', 'yes', 'yes', 'yes', 'yes', 'no', 'yes', 'yes', 'yes', 'yes', 'yes', 'no', 'yes', 'yes',\n",
        "                           'yes', 'no', 'no', 'no', 'yes', 'no', 'yes', 'yes', 'no', 'yes', 'yes', 'yes', 'no', 'yes', 'yes',\n",
        "                           'no', 'yes', 'yes', 'no', 'yes', 'yes', 'yes', 'yes', 'no', 'no', 'no', 'no', 'yes', 'yes', 'yes',\n",
        "                           'yes', 'yes', 'no', 'no', 'yes', 'yes', 'yes', 'no', 'yes', 'yes', 'yes', 'no', 'yes', 'no', 'no',\n",
        "                           'no', 'no', 'no', 'yes', 'yes', 'yes', 'no', 'yes', 'no', 'yes', 'no']\n",
        "}\n",
        "\n",
        "\n",
        "# Create DataFrame\n",
        "df = pd.DataFrame(data)\n",
        "\n",
        "# Save to CSV file\n",
        "df.to_csv(\"student_dropout_data.csv\", index=False)\n",
        "\n",
        "print(\"CSV file created successfully!\")"
      ]
    },
    {
      "cell_type": "code",
      "source": [
        "import pandas as pd\n",
        "from sklearn.model_selection import train_test_split\n",
        "from sklearn.preprocessing import LabelEncoder\n",
        "from sklearn.ensemble import RandomForestClassifier\n",
        "from sklearn.metrics import classification_report, accuracy_score\n",
        "\n",
        "# Define the data (same as provided earlier)\n",
        "data = {\n",
        "    \"interest_level\": [4, 6, 8, 6, 9, 9, 2, 1, 2, 5, 4, 4, 9, 8, 6, 1, 2, 6, 2, 5,\n",
        "                       5, 6, 6, 6, 2, 3, 6, 8, 1, 1, 2, 6, 9, 4, 3, 8, 9, 5, 9, 2,\n",
        "                       3, 7, 7, 6, 6, 2, 6, 4, 3, 2, 1, 5, 2, 2, 7, 8, 8, 4, 1, 7,\n",
        "                       1, 4, 8, 2, 6, 6, 9, 5, 4, 5, 5, 8, 8, 2, 7, 8, 6, 5, 9, 3,\n",
        "                       4, 9, 6, 8, 7, 2, 3, 1, 9, 7, 1, 3, 4, 4, 5, 3, 3, 1, 7, 1],\n",
        "    \"free_hours_per_week\": [17, 12, 19, 19, 17, 3, 0, 17, 0, 12, 19, 19, 9, 10, 8, 8, 4, 0, 16, 1,\n",
        "                            12, 8, 3, 4, 10, 18, 2, 11, 18, 18, 12, 6, 14, 6, 7, 4, 13, 3, 9, 19,\n",
        "                            14, 17, 19, 12, 7, 8, 15, 18, 15, 6, 13, 13, 3, 14, 2, 4, 0, 2, 14, 7,\n",
        "                            3, 1, 9, 3, 2, 1, 16, 19, 12, 4, 8, 5, 4, 9, 7, 6, 6, 5, 19, 2, 18, 14,\n",
        "                            3, 11, 5, 18, 3, 14, 8, 4, 12, 17, 4, 15, 18, 13, 15, 14, 3, 6],\n",
        "    \"club_participation\": ['no', 'no', 'no', 'yes', 'no', 'yes', 'no', 'yes', 'no', 'yes', 'yes', 'yes', 'no', 'no', 'no',\n",
        "                           'yes', 'no', 'yes', 'no', 'yes', 'yes', 'yes', 'no', 'no', 'no', 'yes', 'yes', 'no', 'no', 'no',\n",
        "                           'yes', 'yes', 'yes', 'yes', 'yes', 'no', 'yes', 'yes', 'yes', 'yes', 'yes', 'no', 'yes', 'yes',\n",
        "                           'yes', 'no', 'no', 'no', 'yes', 'no', 'yes', 'yes', 'no', 'yes', 'yes', 'yes', 'no', 'yes', 'yes',\n",
        "                           'no', 'yes', 'yes', 'no', 'yes', 'yes', 'yes', 'yes', 'no', 'no', 'no', 'no', 'yes', 'yes', 'yes',\n",
        "                           'yes', 'yes', 'no', 'no', 'yes', 'yes', 'yes', 'no', 'yes', 'yes', 'yes', 'no', 'yes', 'no', 'no',\n",
        "                           'no', 'no', 'no', 'yes', 'yes', 'yes', 'no', 'yes', 'no', 'yes', 'no']\n",
        "}\n",
        "\n",
        "# Create DataFrame\n",
        "df = pd.DataFrame(data)\n",
        "\n",
        "# Encode the 'club_participation' column (Yes = 1, No = 0)\n",
        "encoder = LabelEncoder()\n",
        "df['club_participation'] = encoder.fit_transform(df['club_participation'])\n",
        "\n",
        "# Define features (X) and target (y)\n",
        "X = df[['interest_level', 'free_hours_per_week']]  # Features\n",
        "y = df['club_participation']  # Target\n",
        "\n",
        "# Split the data into training and test sets\n",
        "X_train, X_test, y_train, y_test = train_test_split(X, y, test_size=0.3, random_state=42)\n",
        "\n",
        "# Train a Random Forest classifier\n",
        "model = RandomForestClassifier(random_state=42)\n",
        "model.fit(X_train, y_train)\n",
        "\n",
        "# Make predictions on the test set\n",
        "y_pred = model.predict(X_test)\n",
        "\n",
        "# Evaluate the model\n",
        "print(\"Model trained and evaluated.\\n\")\n",
        "\n",
        "# Function to prompt user for input and predict outcome\n",
        "def predict_user_input():\n",
        "    interest_level = int(input(\"Enter interest level (1-10): \"))\n",
        "    free_hours = int(input(\"Enter free hours per week: \"))\n",
        "\n",
        "    # Prepare the data for prediction\n",
        "    user_data = pd.DataFrame([[interest_level, free_hours]], columns=['interest_level', 'free_hours_per_week'])\n",
        "\n",
        "    # Predict the outcome\n",
        "    prediction = model.predict(user_data)[0]\n",
        "\n",
        "    # Convert prediction back to 'yes' or 'no'\n",
        "    prediction_label = 'yes' if prediction == 1 else 'no'\n",
        "\n",
        "    print(f\"Based on the provided data, the student is predicted to join the club: {prediction_label}\")\n",
        "\n",
        "# Prompt the user for input and predict\n",
        "predict_user_input()\n"
      ],
      "metadata": {
        "id": "uFjsPeARuuHi",
        "colab": {
          "base_uri": "https://localhost:8080/"
        },
        "outputId": "b3db9ea9-b02a-40fa-98ca-72c055ee616e"
      },
      "execution_count": null,
      "outputs": [
        {
          "output_type": "stream",
          "name": "stdout",
          "text": [
            "Model trained and evaluated.\n",
            "\n",
            "Enter interest level (1-10): 4\n",
            "Enter free hours per week: 100\n",
            "Based on the provided data, the student is predicted to join the club: yes\n"
          ]
        }
      ]
    }
  ]
}